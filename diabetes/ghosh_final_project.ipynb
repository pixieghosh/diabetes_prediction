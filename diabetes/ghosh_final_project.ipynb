{
 "cells": [
  {
   "attachments": {},
   "cell_type": "markdown",
   "metadata": {},
   "source": [
    "## Introduction\n",
    "\n",
    "The data is a part of the 2015 Behavioral Risk Factor Surveillance System annual survey done by the CDC. The subset I am using was made by Alex Taboul on github, in which he consolidated the original dataset to include only the columns he determined to be relevant to diabetes detection. The original dataset contains responses from 441,455 individuals and has 330 features, while the dataset I used is comprised of 253,680 responses and 22 variables total. The features consist of things like high cholesterol or blood pressure, smoker status, age, BMI, sex and income. All of the features are categorical, ranging from binary to 30, except for BMI. \n",
    "I am using two different versions of the dataset, one binary which contains diabetic (which is a combination of  pre-diabetic and diabetic) & non-diabetic, and one multiclass which separates the three."
   ]
  },
  {
   "cell_type": "code",
   "execution_count": 3,
   "metadata": {},
   "outputs": [],
   "source": [
    "import pandas as pd \n",
    "import numpy as np \n",
    "from matplotlib import pyplot\n",
    "import seaborn as sns \n",
    "\n",
    "from sklearn.model_selection import train_test_split, GridSearchCV\n",
    "from sklearn.metrics import confusion_matrix, f1_score \n",
    "from sklearn.ensemble import RandomForestClassifier, HistGradientBoostingClassifier\n",
    "import matplotlib.pyplot as plt\n",
    "from sklearn.feature_selection import SelectFpr, chi2\n",
    "\n",
    "import pickle "
   ]
  },
  {
   "attachments": {},
   "cell_type": "markdown",
   "metadata": {},
   "source": [
    "Loading data"
   ]
  },
  {
   "cell_type": "code",
   "execution_count": 4,
   "metadata": {},
   "outputs": [],
   "source": [
    "diabetes_bin = pd.read_csv('diabetes_binary_health_indicators_BRFSS2015.csv')"
   ]
  },
  {
   "attachments": {},
   "cell_type": "markdown",
   "metadata": {},
   "source": [
    "## Data Exploration\n",
    "Checking for imbalance, nulls and duplicates\n",
    "\n",
    "Checking correlation scores"
   ]
  },
  {
   "cell_type": "code",
   "execution_count": 5,
   "metadata": {},
   "outputs": [
    {
     "data": {
      "text/plain": [
       "Text(0, 0.5, 'Frequency')"
      ]
     },
     "execution_count": 5,
     "metadata": {},
     "output_type": "execute_result"
    },
    {
     "data": {
      "image/png": "[encoded data removed]",
      "text/plain": [
       "<Figure size 1400x800 with 1 Axes>"
      ]
     },
     "metadata": {},
     "output_type": "display_data"
    }
   ],
   "source": [
    "ax = diabetes_bin['Diabetes_binary'].value_counts().plot(kind='bar',\n",
    "                                    figsize=(14,8), color = 'pink')\n",
    "ax.set_xlabel(\"Diabetes Diagnosis\")\n",
    "ax.set_ylabel(\"Frequency\")"
   ]
  },
  {
   "cell_type": "code",
   "execution_count": 7,
   "metadata": {},
   "outputs": [
    {
     "data": {
      "text/plain": [
       "Diabetes_binary         False\n",
       "HighBP                  False\n",
       "HighChol                False\n",
       "CholCheck               False\n",
       "BMI                     False\n",
       "Smoker                  False\n",
       "Stroke                  False\n",
       "HeartDiseaseorAttack    False\n",
       "PhysActivity            False\n",
       "Fruits                  False\n",
       "Veggies                 False\n",
       "HvyAlcoholConsump       False\n",
       "AnyHealthcare           False\n",
       "NoDocbcCost             False\n",
       "GenHlth                 False\n",
       "MentHlth                False\n",
       "PhysHlth                False\n",
       "DiffWalk                False\n",
       "Sex                     False\n",
       "Age                     False\n",
       "Education               False\n",
       "Income                  False\n",
       "dtype: bool"
      ]
     },
     "execution_count": 7,
     "metadata": {},
     "output_type": "execute_result"
    }
   ],
   "source": [
    "diabetes_bin.isna().any()"
   ]
  },
  {
   "cell_type": "code",
   "execution_count": 9,
   "metadata": {},
   "outputs": [
    {
     "data": {
      "text/plain": [
       "True"
      ]
     },
     "execution_count": 9,
     "metadata": {},
     "output_type": "execute_result"
    }
   ],
   "source": [
    "diabetes_bin.duplicated().any()"
   ]
  },
  {
   "cell_type": "code",
   "execution_count": 4,
   "metadata": {},
   "outputs": [
    {
     "name": "stdout",
     "output_type": "stream",
     "text": [
      " correlation for HighBP : 0.26312878992336225\n",
      " correlation for HighChol : 0.20027619187911974\n",
      " correlation for CholCheck : 0.06476081015893663\n",
      " correlation for BMI : 0.21684306020311908\n",
      " correlation for Smoker : 0.060788505640340836\n",
      " correlation for Stroke : 0.10581606726811349\n",
      " correlation for HeartDiseaseorAttack : 0.17728225780720322\n",
      " correlation for PhysActivity : -0.11813311489591109\n",
      " correlation for Fruits : -0.040779228104065375\n",
      " correlation for Veggies : -0.05658413706416273\n",
      " correlation for HvyAlcoholConsump : -0.057056256121682455\n",
      " correlation for AnyHealthcare : 0.01625513954586572\n",
      " correlation for NoDocbcCost : 0.03143276335925929\n",
      " correlation for GenHlth : 0.2935690630787161\n",
      " correlation for MentHlth : 0.06931508263835504\n",
      " correlation for PhysHlth : 0.17133670038725263\n",
      " correlation for DiffWalk : 0.21834435192101767\n",
      " correlation for Sex : 0.03142999802068101\n",
      " correlation for Age : 0.17744187216725688\n",
      " correlation for Education : -0.12445596921588226\n",
      " correlation for Income : -0.16391878680099375\n"
     ]
    }
   ],
   "source": [
    "cols = diabetes_bin.columns.tolist()\n",
    "for col in cols[1:]:\n",
    "    print(f' correlation for {col} : {diabetes_bin[\"Diabetes_binary\"].corr(diabetes_bin[col])}')"
   ]
  },
  {
   "attachments": {},
   "cell_type": "markdown",
   "metadata": {},
   "source": [
    "### Data Exploration Results\n",
    "The dataset has a pretty large imbalance, with over a 6:1 ratio of non-diabetic to diabetic. This can impact the results as the model will be much better trained on non diabetic compared to diabetic/pre-diabetic. This could lead to false negatives, in which someone who should be categorized as 1 (diabetic), may be categorized as 0. \n",
    "The dataset I used was cleaned, so there were no nulls. There are duplicates in the dataset but I decided not to remove them, as with a medical dataset like this, each record is valuable in training the model. Also, duplicate records do not necessarily indicate error in this case as some individuals may have the same records.  \n",
    "I looked at the correlation scores of each feature with the label, and all of them seem to be correlated with the label, with the lowest correlation being with the feature that indicates if the patient had healthcare or not. "
   ]
  },
  {
   "attachments": {},
   "cell_type": "markdown",
   "metadata": {},
   "source": [
    "Splitting data using 0.20 test size + stratifying on label column\n"
   ]
  },
  {
   "cell_type": "code",
   "execution_count": 29,
   "metadata": {},
   "outputs": [],
   "source": [
    "\n",
    "X_train_bin, X_test_bin, y_train_bin, y_test_bin = train_test_split(diabetes_bin.iloc[:,1:], \n",
    "                                                    diabetes_bin['Diabetes_binary'], \n",
    "                                                    test_size= 0.20, random_state= 777, \n",
    "                                                    shuffle = True, stratify= diabetes_bin['Diabetes_binary'])"
   ]
  },
  {
   "attachments": {},
   "cell_type": "markdown",
   "metadata": {},
   "source": [
    "### Feature selection\n",
    "The correlation scores were not definitive enough, so I decide to use the chi2 test with an alpha of 0.01 to determine the feature importance. This resulted in all features except one (AnyHealthcare) being significant."
   ]
  },
  {
   "cell_type": "code",
   "execution_count": 31,
   "metadata": {},
   "outputs": [],
   "source": [
    "fpr = SelectFpr(chi2, alpha=0.01)\n",
    "X_train_bin = fpr.fit_transform(X_train_bin, y_train_bin)\n",
    "features_after_fpr = fpr.get_feature_names_out()\n",
    "feature_mask = np.isin(cols[1:],features_after_fpr)\n",
    "dropped_idx = np.where(feature_mask == False)[0]\n",
    "dropped_col = cols[12]\n",
    "# AnyHealthcare is dropped column "
   ]
  },
  {
   "attachments": {},
   "cell_type": "markdown",
   "metadata": {},
   "source": [
    "### BINARY CLASSIFICATION MODELS"
   ]
  },
  {
   "attachments": {},
   "cell_type": "markdown",
   "metadata": {},
   "source": [
    "Random Forest"
   ]
  },
  {
   "cell_type": "code",
   "execution_count": 7,
   "metadata": {},
   "outputs": [
    {
     "name": "stdout",
     "output_type": "stream",
     "text": [
      "best validation F1 score: 0.8326137245769045\n",
      "best training F1 score: 0.921390247664305\n",
      "best hyperparameters: {'max_depth': 16, 'max_features': 0.5, 'n_estimators': 1000}\n"
     ]
    }
   ],
   "source": [
    "params_rf = {'n_estimators':np.arange(1000,4000,1000),\n",
    "          'max_depth':[13,14,15,16,None],\n",
    "          'max_features':['sqrt',0.5]}\n",
    "clf_rf_bin = RandomForestClassifier(random_state= 777, oob_score= True)\n",
    "gcv_rf_bin = GridSearchCV(clf_rf_bin, param_grid= params_rf, \n",
    "                   n_jobs = 4, cv = 5, \n",
    "                   return_train_score = True, \n",
    "                   scoring = ['f1_weighted'], \n",
    "                   refit = 'f1_weighted').fit(X_train_bin,y_train_bin)\n",
    "print(f'best validation F1 score: {gcv_rf_bin.cv_results_[\"mean_test_f1_weighted\"][gcv_rf_bin.best_index_]}')\n",
    "print(f'best training F1 score: {gcv_rf_bin.cv_results_[\"mean_train_f1_weighted\"][gcv_rf_bin.best_index_]}')\n",
    "print(f'best hyperparameters: {gcv_rf_bin.best_params_}')"
   ]
  },
  {
   "attachments": {},
   "cell_type": "markdown",
   "metadata": {},
   "source": [
    "Confusion Matrix for Random Forest using training set"
   ]
  },
  {
   "cell_type": "code",
   "execution_count": 49,
   "metadata": {},
   "outputs": [
    {
     "data": {
      "text/plain": [
       "Text(50.722222222222214, 0.5, 'True')"
      ]
     },
     "execution_count": 49,
     "metadata": {},
     "output_type": "execute_result"
    },
    {
     "data": {
      "image/png": "[encoded data removed]",
      "text/plain": [
       "<Figure size 640x480 with 1 Axes>"
      ]
     },
     "metadata": {},
     "output_type": "display_data"
    }
   ],
   "source": [
    "y_pred_rf_bin = gcv_rf_bin.best_estimator_.predict(X_train_bin)\n",
    "conf_mat_rf_bin = confusion_matrix(y_true = y_train_bin, y_pred= y_pred_rf_bin)\n",
    "axes = sns.heatmap(conf_mat_rf_bin, cbar= False, annot= True, fmt = 'd', cmap=sns.cubehelix_palette(as_cmap=True))\n",
    "axes.set_xlabel('Predicted')\n",
    "axes.set_ylabel('True')"
   ]
  },
  {
   "attachments": {},
   "cell_type": "markdown",
   "metadata": {},
   "source": [
    "Gradient Boosting"
   ]
  },
  {
   "cell_type": "code",
   "execution_count": 9,
   "metadata": {},
   "outputs": [
    {
     "name": "stdout",
     "output_type": "stream",
     "text": [
      "best validation F1 score: 0.8324644102586912\n",
      "best training F1 score: 0.8370754576568826\n",
      "best hyperparameters: {'learning_rate': 0.1, 'max_depth': 13, 'max_iter': 1000, 'min_samples_leaf': 80}\n"
     ]
    }
   ],
   "source": [
    "params_hgb = {'max_iter':np.arange(1000,4000,1000),\n",
    "          'max_depth':[13,14,15,16,None],\n",
    "          'min_samples_leaf':[40,60,80,100],\n",
    "          'learning_rate': [0.001,0.01,0.1]}\n",
    "clf_hgb_bin = HistGradientBoostingClassifier(random_state= 777, categorical_features= [0,1,2,4,5,6,7,8,9,10,11,12,13,14,15,16,17,18,19])\n",
    "gcv_hgb_bin = GridSearchCV(clf_hgb_bin, param_grid= params_hgb, n_jobs = 4, \n",
    "                   cv = 5, return_train_score = True, \n",
    "                   scoring = ['f1_weighted'], \n",
    "                   refit = 'f1_weighted').fit(X_train_bin,y_train_bin)\n",
    "\n",
    "print(f'best validation F1 score: {gcv_hgb_bin.cv_results_[\"mean_test_f1_weighted\"][gcv_hgb_bin.best_index_]}')\n",
    "print(f'best training F1 score: {gcv_hgb_bin.cv_results_[\"mean_train_f1_weighted\"][gcv_hgb_bin.best_index_]}')\n",
    "print(f'best hyperparameters: {gcv_hgb_bin.best_params_}')"
   ]
  },
  {
   "attachments": {},
   "cell_type": "markdown",
   "metadata": {},
   "source": [
    "Confusion Matrix for Gradient Boosted Trees using training set"
   ]
  },
  {
   "cell_type": "code",
   "execution_count": 48,
   "metadata": {},
   "outputs": [
    {
     "data": {
      "image/png": "[encoded data removed]",
      "text/plain": [
       "<Figure size 640x480 with 1 Axes>"
      ]
     },
     "metadata": {},
     "output_type": "display_data"
    }
   ],
   "source": [
    "y_pred_hgb_bin = gcv_hgb_bin.best_estimator_.predict(X_train_bin)\n",
    "conf_mat_hgb_bin = confusion_matrix(y_true = y_train_bin, y_pred= y_pred_hgb_bin)\n",
    "axes = sns.heatmap(conf_mat_hgb_bin, cbar= False, annot= True, fmt = 'd', cmap=sns.cubehelix_palette(as_cmap=True))\n",
    "axes.set_xlabel('Predicted')\n",
    "axes.set_ylabel('True')\n",
    "plt.show()"
   ]
  },
  {
   "attachments": {},
   "cell_type": "markdown",
   "metadata": {},
   "source": [
    "### Evaluating Test Set\n",
    "Confusion Matrix + f1 score"
   ]
  },
  {
   "cell_type": "code",
   "execution_count": 41,
   "metadata": {},
   "outputs": [
    {
     "name": "stderr",
     "output_type": "stream",
     "text": [
      "c:\\Users\\pixie\\anaconda3\\lib\\site-packages\\sklearn\\base.py:432: UserWarning: X has feature names, but HistGradientBoostingClassifier was fitted without feature names\n",
      "  warnings.warn(\n"
     ]
    },
    {
     "data": {
      "text/plain": [
       "0.8321619083504609"
      ]
     },
     "execution_count": 41,
     "metadata": {},
     "output_type": "execute_result"
    },
    {
     "data": {
      "image/png": "[encoded data removed]",
      "text/plain": [
       "<Figure size 640x480 with 1 Axes>"
      ]
     },
     "metadata": {},
     "output_type": "display_data"
    }
   ],
   "source": [
    "y_pred_test_bin = gcv_hgb_bin.best_estimator_.predict(X_test_bin.drop('AnyHealthcare', axis = 1))\n",
    "conf_mat_test_bin = confusion_matrix(y_true = y_test_bin, y_pred= y_pred_test_bin)\n",
    "axes = sns.heatmap(conf_mat_test_bin, cbar= False, annot= True, fmt = 'd', cmap=sns.cubehelix_palette(as_cmap=True))\n",
    "axes.set_xlabel('Predicted')\n",
    "axes.set_ylabel('True')\n",
    "\n",
    "f1_score(y_test_bin, y_pred_test_bin, average= 'weighted')"
   ]
  },
  {
   "attachments": {},
   "cell_type": "markdown",
   "metadata": {},
   "source": [
    "### MULTICLASS CLASSIFICATION MODELS "
   ]
  },
  {
   "attachments": {},
   "cell_type": "markdown",
   "metadata": {},
   "source": [
    "loading data"
   ]
  },
  {
   "cell_type": "code",
   "execution_count": 35,
   "metadata": {},
   "outputs": [
    {
     "data": {
      "text/html": [
       "<div>\n",
       "<style scoped>\n",
       "    .dataframe tbody tr th:only-of-type {\n",
       "        vertical-align: middle;\n",
       "    }\n",
       "\n",
       "    .dataframe tbody tr th {\n",
       "        vertical-align: top;\n",
       "    }\n",
       "\n",
       "    .dataframe thead th {\n",
       "        text-align: right;\n",
       "    }\n",
       "</style>\n",
       "<table border=\"1\" class=\"dataframe\">\n",
       "  <thead>\n",
       "    <tr style=\"text-align: right;\">\n",
       "      <th></th>\n",
       "      <th>Diabetes_012</th>\n",
       "      <th>HighBP</th>\n",
       "      <th>HighChol</th>\n",
       "      <th>CholCheck</th>\n",
       "      <th>BMI</th>\n",
       "      <th>Smoker</th>\n",
       "      <th>Stroke</th>\n",
       "      <th>HeartDiseaseorAttack</th>\n",
       "      <th>PhysActivity</th>\n",
       "      <th>Fruits</th>\n",
       "      <th>...</th>\n",
       "      <th>AnyHealthcare</th>\n",
       "      <th>NoDocbcCost</th>\n",
       "      <th>GenHlth</th>\n",
       "      <th>MentHlth</th>\n",
       "      <th>PhysHlth</th>\n",
       "      <th>DiffWalk</th>\n",
       "      <th>Sex</th>\n",
       "      <th>Age</th>\n",
       "      <th>Education</th>\n",
       "      <th>Income</th>\n",
       "    </tr>\n",
       "  </thead>\n",
       "  <tbody>\n",
       "    <tr>\n",
       "      <th>0</th>\n",
       "      <td>0.0</td>\n",
       "      <td>1.0</td>\n",
       "      <td>1.0</td>\n",
       "      <td>1.0</td>\n",
       "      <td>40.0</td>\n",
       "      <td>1.0</td>\n",
       "      <td>0.0</td>\n",
       "      <td>0.0</td>\n",
       "      <td>0.0</td>\n",
       "      <td>0.0</td>\n",
       "      <td>...</td>\n",
       "      <td>1.0</td>\n",
       "      <td>0.0</td>\n",
       "      <td>5.0</td>\n",
       "      <td>18.0</td>\n",
       "      <td>15.0</td>\n",
       "      <td>1.0</td>\n",
       "      <td>0.0</td>\n",
       "      <td>9.0</td>\n",
       "      <td>4.0</td>\n",
       "      <td>3.0</td>\n",
       "    </tr>\n",
       "    <tr>\n",
       "      <th>1</th>\n",
       "      <td>0.0</td>\n",
       "      <td>0.0</td>\n",
       "      <td>0.0</td>\n",
       "      <td>0.0</td>\n",
       "      <td>25.0</td>\n",
       "      <td>1.0</td>\n",
       "      <td>0.0</td>\n",
       "      <td>0.0</td>\n",
       "      <td>1.0</td>\n",
       "      <td>0.0</td>\n",
       "      <td>...</td>\n",
       "      <td>0.0</td>\n",
       "      <td>1.0</td>\n",
       "      <td>3.0</td>\n",
       "      <td>0.0</td>\n",
       "      <td>0.0</td>\n",
       "      <td>0.0</td>\n",
       "      <td>0.0</td>\n",
       "      <td>7.0</td>\n",
       "      <td>6.0</td>\n",
       "      <td>1.0</td>\n",
       "    </tr>\n",
       "    <tr>\n",
       "      <th>2</th>\n",
       "      <td>0.0</td>\n",
       "      <td>1.0</td>\n",
       "      <td>1.0</td>\n",
       "      <td>1.0</td>\n",
       "      <td>28.0</td>\n",
       "      <td>0.0</td>\n",
       "      <td>0.0</td>\n",
       "      <td>0.0</td>\n",
       "      <td>0.0</td>\n",
       "      <td>1.0</td>\n",
       "      <td>...</td>\n",
       "      <td>1.0</td>\n",
       "      <td>1.0</td>\n",
       "      <td>5.0</td>\n",
       "      <td>30.0</td>\n",
       "      <td>30.0</td>\n",
       "      <td>1.0</td>\n",
       "      <td>0.0</td>\n",
       "      <td>9.0</td>\n",
       "      <td>4.0</td>\n",
       "      <td>8.0</td>\n",
       "    </tr>\n",
       "    <tr>\n",
       "      <th>3</th>\n",
       "      <td>0.0</td>\n",
       "      <td>1.0</td>\n",
       "      <td>0.0</td>\n",
       "      <td>1.0</td>\n",
       "      <td>27.0</td>\n",
       "      <td>0.0</td>\n",
       "      <td>0.0</td>\n",
       "      <td>0.0</td>\n",
       "      <td>1.0</td>\n",
       "      <td>1.0</td>\n",
       "      <td>...</td>\n",
       "      <td>1.0</td>\n",
       "      <td>0.0</td>\n",
       "      <td>2.0</td>\n",
       "      <td>0.0</td>\n",
       "      <td>0.0</td>\n",
       "      <td>0.0</td>\n",
       "      <td>0.0</td>\n",
       "      <td>11.0</td>\n",
       "      <td>3.0</td>\n",
       "      <td>6.0</td>\n",
       "    </tr>\n",
       "    <tr>\n",
       "      <th>4</th>\n",
       "      <td>0.0</td>\n",
       "      <td>1.0</td>\n",
       "      <td>1.0</td>\n",
       "      <td>1.0</td>\n",
       "      <td>24.0</td>\n",
       "      <td>0.0</td>\n",
       "      <td>0.0</td>\n",
       "      <td>0.0</td>\n",
       "      <td>1.0</td>\n",
       "      <td>1.0</td>\n",
       "      <td>...</td>\n",
       "      <td>1.0</td>\n",
       "      <td>0.0</td>\n",
       "      <td>2.0</td>\n",
       "      <td>3.0</td>\n",
       "      <td>0.0</td>\n",
       "      <td>0.0</td>\n",
       "      <td>0.0</td>\n",
       "      <td>11.0</td>\n",
       "      <td>5.0</td>\n",
       "      <td>4.0</td>\n",
       "    </tr>\n",
       "  </tbody>\n",
       "</table>\n",
       "<p>5 rows × 22 columns</p>\n",
       "</div>"
      ],
      "text/plain": [
       "   Diabetes_012  HighBP  HighChol  CholCheck   BMI  Smoker  Stroke  \\\n",
       "0           0.0     1.0       1.0        1.0  40.0     1.0     0.0   \n",
       "1           0.0     0.0       0.0        0.0  25.0     1.0     0.0   \n",
       "2           0.0     1.0       1.0        1.0  28.0     0.0     0.0   \n",
       "3           0.0     1.0       0.0        1.0  27.0     0.0     0.0   \n",
       "4           0.0     1.0       1.0        1.0  24.0     0.0     0.0   \n",
       "\n",
       "   HeartDiseaseorAttack  PhysActivity  Fruits  ...  AnyHealthcare  \\\n",
       "0                   0.0           0.0     0.0  ...            1.0   \n",
       "1                   0.0           1.0     0.0  ...            0.0   \n",
       "2                   0.0           0.0     1.0  ...            1.0   \n",
       "3                   0.0           1.0     1.0  ...            1.0   \n",
       "4                   0.0           1.0     1.0  ...            1.0   \n",
       "\n",
       "   NoDocbcCost  GenHlth  MentHlth  PhysHlth  DiffWalk  Sex   Age  Education  \\\n",
       "0          0.0      5.0      18.0      15.0       1.0  0.0   9.0        4.0   \n",
       "1          1.0      3.0       0.0       0.0       0.0  0.0   7.0        6.0   \n",
       "2          1.0      5.0      30.0      30.0       1.0  0.0   9.0        4.0   \n",
       "3          0.0      2.0       0.0       0.0       0.0  0.0  11.0        3.0   \n",
       "4          0.0      2.0       3.0       0.0       0.0  0.0  11.0        5.0   \n",
       "\n",
       "   Income  \n",
       "0     3.0  \n",
       "1     1.0  \n",
       "2     8.0  \n",
       "3     6.0  \n",
       "4     4.0  \n",
       "\n",
       "[5 rows x 22 columns]"
      ]
     },
     "execution_count": 35,
     "metadata": {},
     "output_type": "execute_result"
    }
   ],
   "source": [
    "diabetes_mc = pd.read_csv('diabetes_012_health_indicators_BRFSS2015.csv')\n",
    "diabetes_mc.head()"
   ]
  },
  {
   "attachments": {},
   "cell_type": "markdown",
   "metadata": {},
   "source": [
    "Splitting data using 0.20 test size + stratifying on label column"
   ]
  },
  {
   "cell_type": "code",
   "execution_count": 36,
   "metadata": {},
   "outputs": [],
   "source": [
    "X_train_mc, X_test_mc, y_train_mc, y_test_mc = train_test_split(diabetes_mc.iloc[:,1:], \n",
    "                                                    diabetes_mc['Diabetes_012'], \n",
    "                                                    test_size= 0.20, random_state= 777, \n",
    "                                                    shuffle = True, \n",
    "                                                    stratify= diabetes_mc['Diabetes_012'])"
   ]
  },
  {
   "attachments": {},
   "cell_type": "markdown",
   "metadata": {},
   "source": [
    "Feature selection\n",
    "\n",
    "AnyHealthcare column is dropped again"
   ]
  },
  {
   "cell_type": "code",
   "execution_count": 42,
   "metadata": {},
   "outputs": [],
   "source": [
    "fpr = SelectFpr(chi2, alpha=0.01)\n",
    "X_train_mc = fpr.fit_transform(X_train_mc, y_train_mc)\n",
    "features_after_fpr_mc = fpr.get_feature_names_out()\n",
    "feature_mask_mc = np.isin(cols[1:],features_after_fpr_mc)\n",
    "dropped_idx_mc = np.where(feature_mask_mc == False)[0]\n",
    "dropped_col_mc = cols[12]\n",
    "# AnyHealthcare is dropped column "
   ]
  },
  {
   "attachments": {},
   "cell_type": "markdown",
   "metadata": {},
   "source": [
    "Random Forest"
   ]
  },
  {
   "cell_type": "code",
   "execution_count": 43,
   "metadata": {},
   "outputs": [
    {
     "name": "stdout",
     "output_type": "stream",
     "text": [
      "best validation F1 score: 0.8106339494221981\n",
      "best training F1 score: 0.9059562693250826\n",
      "best hyperparameters: {'max_depth': 16, 'max_features': 0.5, 'n_estimators': 3000}\n"
     ]
    }
   ],
   "source": [
    "clf_rf_mc = RandomForestClassifier(random_state= 777, oob_score= True)\n",
    "gcv_rf_mc = GridSearchCV(clf_rf_mc, param_grid= params_rf, \n",
    "                   n_jobs = 4, cv = 5, \n",
    "                   return_train_score = True, \n",
    "                   scoring = ['f1_weighted'], \n",
    "                   refit = 'f1_weighted').fit(X_train_mc,y_train_mc)\n",
    "print(f'best validation F1 score: {gcv_rf_mc.cv_results_[\"mean_test_f1_weighted\"][gcv_rf_mc.best_index_]}')\n",
    "print(f'best training F1 score: {gcv_rf_mc.cv_results_[\"mean_train_f1_weighted\"][gcv_rf_mc.best_index_]}')\n",
    "print(f'best hyperparameters: {gcv_rf_mc.best_params_}')"
   ]
  },
  {
   "attachments": {},
   "cell_type": "markdown",
   "metadata": {},
   "source": [
    "Confusion Matrix for Random Forest using training set"
   ]
  },
  {
   "cell_type": "code",
   "execution_count": 44,
   "metadata": {},
   "outputs": [
    {
     "data": {
      "text/plain": [
       "Text(50.722222222222214, 0.5, 'True')"
      ]
     },
     "execution_count": 44,
     "metadata": {},
     "output_type": "execute_result"
    },
    {
     "data": {
      "image/png": "[encoded data removed]",
      "text/plain": [
       "<Figure size 640x480 with 1 Axes>"
      ]
     },
     "metadata": {},
     "output_type": "display_data"
    }
   ],
   "source": [
    "y_pred_rf_mc = gcv_rf_mc.best_estimator_.predict(X_train_mc)\n",
    "conf_mat_rf_mc = confusion_matrix(y_true = y_train_mc, y_pred= y_pred_rf_mc)\n",
    "axes = sns.heatmap(conf_mat_rf_mc, cbar= False, annot= True, fmt = 'd', cmap=sns.cubehelix_palette(as_cmap=True))\n",
    "axes.set_xlabel('Predicted')\n",
    "axes.set_ylabel('True')"
   ]
  },
  {
   "attachments": {},
   "cell_type": "markdown",
   "metadata": {},
   "source": [
    "Gradient Boosting"
   ]
  },
  {
   "cell_type": "code",
   "execution_count": 45,
   "metadata": {},
   "outputs": [
    {
     "name": "stdout",
     "output_type": "stream",
     "text": [
      "best validation F1 score: 0.8118012596369348\n",
      "best training F1 score: 0.8172454556115284\n",
      "best hyperparameters: {'learning_rate': 0.1, 'max_depth': 16, 'max_iter': 1000, 'min_samples_leaf': 60}\n"
     ]
    }
   ],
   "source": [
    "clf_hgb_mc = HistGradientBoostingClassifier(random_state= 777, categorical_features= [0,1,2,4,5,6,7,8,9,10,11,12,13,14,15,16,17,18,19])\n",
    "gcv_hgb_mc = GridSearchCV(clf_hgb_mc, param_grid= params_hgb, n_jobs = 4, \n",
    "                   cv = 5, return_train_score = True, \n",
    "                   scoring = ['f1_weighted'], \n",
    "                   refit = 'f1_weighted').fit(X_train_mc,y_train_mc)\n",
    "\n",
    "print(f'best validation F1 score: {gcv_hgb_mc.cv_results_[\"mean_test_f1_weighted\"][gcv_hgb_mc.best_index_]}')\n",
    "print(f'best training F1 score: {gcv_hgb_mc.cv_results_[\"mean_train_f1_weighted\"][gcv_hgb_mc.best_index_]}')\n",
    "print(f'best hyperparameters: {gcv_hgb_mc.best_params_}')"
   ]
  },
  {
   "attachments": {},
   "cell_type": "markdown",
   "metadata": {},
   "source": [
    "Confusion Matrix for Gradient Boosting using training set"
   ]
  },
  {
   "cell_type": "code",
   "execution_count": 46,
   "metadata": {},
   "outputs": [
    {
     "data": {
      "text/plain": [
       "Text(50.722222222222214, 0.5, 'True')"
      ]
     },
     "execution_count": 46,
     "metadata": {},
     "output_type": "execute_result"
    },
    {
     "data": {
      "image/png": "[encoded data removed]",
      "text/plain": [
       "<Figure size 640x480 with 1 Axes>"
      ]
     },
     "metadata": {},
     "output_type": "display_data"
    }
   ],
   "source": [
    "y_pred_hgb_mc = gcv_hgb_mc.best_estimator_.predict(X_train_mc)\n",
    "conf_mat_hgb_mc = confusion_matrix(y_true = y_train_mc, y_pred= y_pred_hgb_mc)\n",
    "axes = sns.heatmap(conf_mat_hgb_mc, cbar= False, annot= True, fmt = 'd', cmap=sns.cubehelix_palette(as_cmap=True))\n",
    "axes.set_xlabel('Predicted')\n",
    "axes.set_ylabel('True')\n",
    "\n",
    "# use predict on test data, use f1 score function with weighted + do confusion matrix "
   ]
  },
  {
   "attachments": {},
   "cell_type": "markdown",
   "metadata": {},
   "source": [
    "### Evaluating Test Set\n",
    "Confusion Matrix + f1 score"
   ]
  },
  {
   "cell_type": "code",
   "execution_count": 47,
   "metadata": {},
   "outputs": [
    {
     "name": "stderr",
     "output_type": "stream",
     "text": [
      "c:\\Users\\pixie\\anaconda3\\lib\\site-packages\\sklearn\\base.py:432: UserWarning: X has feature names, but HistGradientBoostingClassifier was fitted without feature names\n",
      "  warnings.warn(\n"
     ]
    },
    {
     "data": {
      "text/plain": [
       "0.8120089416196272"
      ]
     },
     "execution_count": 47,
     "metadata": {},
     "output_type": "execute_result"
    },
    {
     "data": {
      "image/png": "[encoded data removed]",
      "text/plain": [
       "<Figure size 640x480 with 1 Axes>"
      ]
     },
     "metadata": {},
     "output_type": "display_data"
    }
   ],
   "source": [
    "y_pred_test_mc = gcv_hgb_mc.best_estimator_.predict(X_test_mc.drop('AnyHealthcare', axis = 1))\n",
    "conf_mat_test_mc = confusion_matrix(y_true = y_test_mc, y_pred= y_pred_test_mc)\n",
    "axes = sns.heatmap(conf_mat_test_mc, cbar= False, annot= True, fmt = 'd', cmap=sns.cubehelix_palette(as_cmap=True))\n",
    "axes.set_xlabel('Predicted')\n",
    "axes.set_ylabel('True')\n",
    "\n",
    "f1_score(y_test_mc, y_pred_test_mc, average= 'weighted')"
   ]
  },
  {
   "attachments": {},
   "cell_type": "markdown",
   "metadata": {},
   "source": [
    "### Methods Review\n",
    "\n",
    "The plan for this project was to build baseline classifiers for both the binary and multiclass datasets. I decided on using RandomForest and HistGradientBoost, which is much faster than GradientBoostingClassifier for big datasets (n_samples >= 10 000).\n",
    "I split the data using a 20% test size and stratified with label column. I then did feature selection using chi2 and an alpha value of 0.01 to transform the training data, which resulted in one dropped feature, any healthcare.  \n",
    "I then used gridsearchcv to tune the hyperparameters for each model. For the random forest models, I tuned the number of estimators, max depth of each tree, and max features (which determines what portion of the total features are used to randomly train each tree) . For the HistGradientBoost, I tuned the max itererations, max depth, minimum samples per leaf, and learning rate parameters. I used a 5 fold cross validation and the f1 weighted metric. I chose this metric because accuracy is not very reliable for imbalanced data sets and precision + recall are better measures. The F1 score is a harmonic mean of the precision and recall, with its best value at 1 and worst score at 0. I chose the weighted version to provide the correct weights to the imbalanced classes. \n",
    "\n",
    "\n"
   ]
  },
  {
   "attachments": {},
   "cell_type": "markdown",
   "metadata": {},
   "source": [
    "### Discussion\n",
    "I started with the hypothesis that I can build a diabetes classifier for both the binary and multiclass diabetes datasets.  The results of this project show that it is possible, but I definitely think that there is room for improvement. Correcting the data imbalance would be the first thing I would do. \n",
    "Both the algorithms I used for this project allow me to specify custom weights for the labels to account for imbalance, so changing those would be the first step in improving imbalance. I have also read of something called synthetic resampling (SMOTE), which I have read also helps with correcting imbalance. \n",
    "Then I would investigate acquiring additional data, whether it be more samples or more features. I would also look at the features in the original dataset and see if any were left out that could potentially better the model. \n"
   ]
  }
 ],
 "metadata": {
  "kernelspec": {
   "display_name": "base",
   "language": "python",
   "name": "python3"
  },
  "language_info": {
   "codemirror_mode": {
    "name": "ipython",
    "version": 3
   },
   "file_extension": ".py",
   "mimetype": "text/x-python",
   "name": "python",
   "nbconvert_exporter": "python",
   "pygments_lexer": "ipython3",
   "version": "3.9.13"
  },
  "orig_nbformat": 4
 },
 "nbformat": 4,
 "nbformat_minor": 2
}
